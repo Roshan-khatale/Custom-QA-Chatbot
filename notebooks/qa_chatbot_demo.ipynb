{
  "cells": [
    {
      "cell_type": "code",
      "execution_count": null,
      "metadata": {},
      "outputs": [],
      "source": [
        "from scripts.qa_model import get_answer\n",
        "context = open('../data/context.txt').read()\n",
        "print(get_answer(context, 'How many planets are in the solar system?'))"
      ]
    }
  ],
  "metadata": {},
  "nbformat": 4,
  "nbformat_minor": 5
}